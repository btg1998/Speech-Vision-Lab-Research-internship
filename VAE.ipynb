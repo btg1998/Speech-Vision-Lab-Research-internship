{
  "nbformat": 4,
  "nbformat_minor": 0,
  "metadata": {
    "colab": {
      "name": "VAE.ipynb",
      "version": "0.3.2",
      "provenance": [],
      "collapsed_sections": []
    },
    "kernelspec": {
      "name": "python3",
      "display_name": "Python 3"
    },
    "accelerator": "GPU"
  },
  "cells": [
    {
      "metadata": {
        "id": "Q5lOEhte1gJ0",
        "colab_type": "code",
        "colab": {
          "base_uri": "https://localhost:8080/",
          "height": 136
        },
        "outputId": "d5b50573-67de-4350-fbd4-e04dcf2cf4ff"
      },
      "cell_type": "code",
      "source": [
        "!pip3 install http://download.pytorch.org/whl/cu80/torch-0.3.0.post4-cp36-cp36m-linux_x86_64.whl "
      ],
      "execution_count": 1,
      "outputs": [
        {
          "output_type": "stream",
          "text": [
            "Collecting torch==0.3.0.post4 from http://download.pytorch.org/whl/cu80/torch-0.3.0.post4-cp36-cp36m-linux_x86_64.whl\n",
            "\u001b[?25l  Downloading http://download.pytorch.org/whl/cu80/torch-0.3.0.post4-cp36-cp36m-linux_x86_64.whl (592.3MB)\n",
            "\u001b[K    98% |███████████████████████████████▋| 584.4MB 46.9MB/s eta 0:00:01"
          ],
          "name": "stdout"
        },
        {
          "output_type": "stream",
          "text": [
            "\u001b[K    100% |████████████████████████████████| 592.3MB 31.6MB/s \n",
            "\u001b[?25hRequirement already satisfied: numpy in /usr/local/lib/python3.6/dist-packages (from torch==0.3.0.post4) (1.14.5)\n",
            "Requirement already satisfied: pyyaml in /usr/local/lib/python3.6/dist-packages (from torch==0.3.0.post4) (3.13)\n",
            "Installing collected packages: torch\n",
            "Successfully installed torch-0.3.0.post4\n"
          ],
          "name": "stdout"
        }
      ]
    },
    {
      "metadata": {
        "id": "0BBQHd072Tx8",
        "colab_type": "code",
        "colab": {
          "base_uri": "https://localhost:8080/",
          "height": 272
        },
        "outputId": "05affb58-f19c-4513-9b53-5356e0b30b02"
      },
      "cell_type": "code",
      "source": [
        "!pip3 install torchvision"
      ],
      "execution_count": 2,
      "outputs": [
        {
          "output_type": "stream",
          "text": [
            "Collecting torchvision\n",
            "\u001b[?25l  Downloading https://files.pythonhosted.org/packages/ca/0d/f00b2885711e08bd71242ebe7b96561e6f6d01fdb4b9dcf4d37e2e13c5e1/torchvision-0.2.1-py2.py3-none-any.whl (54kB)\n",
            "\u001b[K    100% |████████████████████████████████| 61kB 2.3MB/s \n",
            "\u001b[?25hRequirement already satisfied: six in /usr/local/lib/python3.6/dist-packages (from torchvision) (1.11.0)\n",
            "Requirement already satisfied: numpy in /usr/local/lib/python3.6/dist-packages (from torchvision) (1.14.5)\n",
            "Collecting pillow>=4.1.1 (from torchvision)\n",
            "\u001b[?25l  Downloading https://files.pythonhosted.org/packages/d1/24/f53ff6b61b3d728b90934bddb4f03f8ab584a7f49299bf3bde56e2952612/Pillow-5.2.0-cp36-cp36m-manylinux1_x86_64.whl (2.0MB)\n",
            "\u001b[K    100% |████████████████████████████████| 2.0MB 7.5MB/s \n",
            "\u001b[?25hRequirement already satisfied: torch in /usr/local/lib/python3.6/dist-packages (from torchvision) (0.3.0.post4)\n",
            "Requirement already satisfied: pyyaml in /usr/local/lib/python3.6/dist-packages (from torch->torchvision) (3.13)\n",
            "Installing collected packages: pillow, torchvision\n",
            "  Found existing installation: Pillow 4.0.0\n",
            "    Uninstalling Pillow-4.0.0:\n",
            "      Successfully uninstalled Pillow-4.0.0\n",
            "Successfully installed pillow-5.2.0 torchvision-0.2.1\n"
          ],
          "name": "stdout"
        }
      ]
    },
    {
      "metadata": {
        "id": "f9y3_SsG2DkL",
        "colab_type": "code",
        "colab": {}
      },
      "cell_type": "code",
      "source": [
        "# Required Header Files\n",
        "import torch\n",
        "from torch.autograd import Variable\n",
        "import numpy as np\n",
        "import torch.nn.functional as F\n",
        "import torchvision\n",
        "from torchvision import transforms\n",
        "import torch.optim as optim\n",
        "from torch import nn\n",
        "import matplotlib.pyplot as plt\n"
      ],
      "execution_count": 0,
      "outputs": []
    },
    {
      "metadata": {
        "id": "vf8IsirmKD3I",
        "colab_type": "code",
        "colab": {}
      },
      "cell_type": "code",
      "source": [
        "# Class for Normal Distribution\n",
        "class Normal(object):\n",
        "    def __init__(self, mu, sigma, log_sigma, v=None, r=None):\n",
        "        self.mu = mu\n",
        "        self.sigma = sigma  # either stdev diagonal itself, or stdev diagonal from decomposition\n",
        "        self.logsigma = log_sigma\n",
        "        dim = mu.get_shape()\n",
        "        if v is None:\n",
        "            v = torch.FloatTensor(*dim)\n",
        "        if r is None:\n",
        "            r = torch.FloatTensor(*dim)\n",
        "        self.v = v\n",
        "        self.r = r"
      ],
      "execution_count": 0,
      "outputs": []
    },
    {
      "metadata": {
        "id": "y_0GNwj5KMdO",
        "colab_type": "code",
        "colab": {}
      },
      "cell_type": "code",
      "source": [
        "# Encoder class consisting of 2 linear layers\n",
        "class Encoder(torch.nn.Module):\n",
        "    def __init__(self, D_in, H, D_out):\n",
        "        super(Encoder, self).__init__()\n",
        "        self.linear1 = torch.nn.Linear(D_in, H)\n",
        "        self.linear2 = torch.nn.Linear(H, D_out)\n",
        "    # Forward pass function\n",
        "    def forward(self, x):\n",
        "        x = F.relu(self.linear1(x))\n",
        "        return F.relu(self.linear2(x))"
      ],
      "execution_count": 0,
      "outputs": []
    },
    {
      "metadata": {
        "id": "-6DEdv30KQ5X",
        "colab_type": "code",
        "colab": {}
      },
      "cell_type": "code",
      "source": [
        " # Decoder Classc consisting of 2 linear layers symmetrical to the Encoder\n",
        "class Decoder(torch.nn.Module):\n",
        "    def __init__(self, D_in, H, D_out):\n",
        "        super(Decoder, self).__init__()\n",
        "        self.linear1 = torch.nn.Linear(D_in, H)\n",
        "        self.linear2 = torch.nn.Linear(H, D_out)\n",
        "    # Forward pass function\n",
        "    def forward(self, x):\n",
        "        x = F.relu(self.linear1(x))\n",
        "        return F.relu(self.linear2(x))\n"
      ],
      "execution_count": 0,
      "outputs": []
    },
    {
      "metadata": {
        "id": "VJ-lp3ABKTLo",
        "colab_type": "code",
        "colab": {}
      },
      "cell_type": "code",
      "source": [
        "# Variational Auto Encoder class\n",
        "class VAE(torch.nn.Module):\n",
        "    latent_dim = 8 # Hyper - Parameter which can be later tuned\n",
        "    \n",
        "    # Constructor function for the Variational Auto Encoder\n",
        "    def __init__(self, encoder, decoder):\n",
        "        super(VAE, self).__init__()\n",
        "        self.encoder = encoder # An Encoder\n",
        "        self.decoder = decoder # A Decoder\n",
        "        self._enc_mu = torch.nn.Linear(100, 8)  # Mean\n",
        "        self._enc_log_sigma = torch.nn.Linear(100, 8) # Log Std Deviation\n",
        "        \n",
        "       \n",
        "    # Sampling Function\n",
        "    def _sample_latent(self, h_enc):\n",
        "        \"\"\"\n",
        "        Return the latent normal sample z ~ N(mu, sigma^2)\n",
        "        \"\"\"\n",
        "        mu = self._enc_mu(h_enc)\n",
        "        log_sigma = self._enc_log_sigma(h_enc)\n",
        "        sigma = torch.exp(log_sigma)\n",
        "        std_z = torch.from_numpy(np.random.normal(0, 1, size=sigma.size())).float()\n",
        "\n",
        "        self.z_mean = mu\n",
        "        self.z_sigma = sigma\n",
        "\n",
        "        return mu + sigma * Variable(std_z, requires_grad=False)  # Reparameterization trick\n",
        "    # Forward Pass Function\n",
        "    def forward(self, state):\n",
        "        h_enc = self.encoder(state)\n",
        "        z = self._sample_latent(h_enc)\n",
        "        return self.decoder(z)\n",
        "\n"
      ],
      "execution_count": 0,
      "outputs": []
    },
    {
      "metadata": {
        "id": "IUVk1pgZKdna",
        "colab_type": "code",
        "colab": {}
      },
      "cell_type": "code",
      "source": [
        "# Function to calculate Latent Loss\n",
        "def latent_loss(z_mean, z_stddev):\n",
        "    mean_sq = z_mean * z_mean\n",
        "    stddev_sq = z_stddev * z_stddev\n",
        "    return 0.5 * torch.mean(mean_sq + stddev_sq - torch.log(stddev_sq) - 1)\n",
        "\n"
      ],
      "execution_count": 0,
      "outputs": []
    },
    {
      "metadata": {
        "id": "z1ujUI9uKgUS",
        "colab_type": "code",
        "colab": {
          "base_uri": "https://localhost:8080/",
          "height": 2166
        },
        "outputId": "1964c2b6-4e1d-48ef-8816-4992b63d8bfe"
      },
      "cell_type": "code",
      "source": [
        "if __name__ == '__main__':\n",
        "    \n",
        "    input_dim = 28 * 28\n",
        "    batch_size = 32\n",
        "\n",
        "    transform = transforms.Compose(\n",
        "        [transforms.ToTensor()])\n",
        "    mnist = torchvision.datasets.MNIST('./', download=True, transform=transform)\n",
        "\n",
        "    dataloader = torch.utils.data.DataLoader(mnist, batch_size=batch_size,\n",
        "                                             shuffle=True, num_workers=2)\n",
        "\n",
        "    print('Number of samples: ', len(mnist))\n",
        "    # Intialization of the Encoder and the Decoder\n",
        "    encoder = Encoder(input_dim, 100, 100)\n",
        "    decoder = Decoder(8, 100, input_dim)\n",
        "    vae = VAE(encoder, decoder)\n",
        "    # Using Mean Squared Loss for training\n",
        "    criterion = nn.MSELoss()\n",
        "    # Using Adam Optimizer\n",
        "    optimizer = optim.Adam(vae.parameters(), lr=0.0001)\n",
        "    l = None\n",
        "    # Training for 100 iterations\n",
        "    for epoch in range(100):\n",
        "        for i, data in enumerate(dataloader, 0):\n",
        "            inputs, classes = data\n",
        "            inputs, classes = Variable(inputs.resize_(batch_size, input_dim)), Variable(classes)\n",
        "            optimizer.zero_grad() # Zeroing the Optimizer Gradients\n",
        "            dec = vae(inputs)\n",
        "            ll = latent_loss(vae.z_mean, vae.z_sigma)\n",
        "            loss = criterion(dec, inputs) + ll\n",
        "            # Back Propogation\n",
        "            loss.backward() \n",
        "            optimizer.step()\n",
        "            l = loss.data[0]\n",
        "        print(epoch, l) # Printing the loss\n",
        "    # Showing the created image\n",
        "    plt.imshow(vae(inputs).data[0].numpy().reshape(28, 28), cmap='gray')\n",
        "    plt.show(block=True)"
      ],
      "execution_count": 9,
      "outputs": [
        {
          "output_type": "stream",
          "text": [
            "Downloading http://yann.lecun.com/exdb/mnist/train-images-idx3-ubyte.gz\n",
            "Downloading http://yann.lecun.com/exdb/mnist/train-labels-idx1-ubyte.gz\n",
            "Downloading http://yann.lecun.com/exdb/mnist/t10k-images-idx3-ubyte.gz\n",
            "Downloading http://yann.lecun.com/exdb/mnist/t10k-labels-idx1-ubyte.gz\n",
            "Processing...\n",
            "Done!\n",
            "Number of samples:  60000\n",
            "0 0.06542827934026718\n",
            "1 0.06842564791440964\n",
            "2 0.07225073873996735\n",
            "3 0.0666666179895401\n",
            "4 0.0651979073882103\n",
            "5 0.07221096754074097\n",
            "6 0.059068262577056885\n",
            "7 0.06676647067070007\n",
            "8 0.0694689229130745\n",
            "9 0.06773657351732254\n",
            "10 0.066789411008358\n",
            "11 0.07382402569055557\n",
            "12 0.0663641095161438\n",
            "13 0.06821306049823761\n",
            "14 0.06740333884954453\n",
            "15 0.07181020826101303\n",
            "16 0.06951093673706055\n",
            "17 0.07425732165575027\n",
            "18 0.06882365792989731\n",
            "19 0.0683014988899231\n",
            "20 0.07120612263679504\n",
            "21 0.06374897062778473\n",
            "22 0.0691245049238205\n",
            "23 0.0674884170293808\n",
            "24 0.07167474180459976\n",
            "25 0.06827016919851303\n",
            "26 0.06994721293449402\n",
            "27 0.06811806559562683\n",
            "28 0.0673644170165062\n",
            "29 0.0659450888633728\n",
            "30 0.06767313927412033\n",
            "31 0.06886132061481476\n",
            "32 0.06857798248529434\n",
            "33 0.06544660031795502\n",
            "34 0.0727199837565422\n",
            "35 0.06401597708463669\n",
            "36 0.06678040325641632\n",
            "37 0.06609135121107101\n",
            "38 0.06844674050807953\n",
            "39 0.06947821378707886\n",
            "40 0.061921533197164536\n",
            "41 0.06765604019165039\n",
            "42 0.07043182849884033\n",
            "43 0.06361844390630722\n",
            "44 0.06962186098098755\n",
            "45 0.0636453926563263\n",
            "46 0.06777553260326385\n",
            "47 0.06922657042741776\n",
            "48 0.06119045615196228\n",
            "49 0.06953226774930954\n",
            "50 0.06745919585227966\n",
            "51 0.06140414997935295\n",
            "52 0.06889957934617996\n",
            "53 0.0711568146944046\n",
            "54 0.06769779324531555\n",
            "55 0.06686205416917801\n",
            "56 0.061267562210559845\n",
            "57 0.061634309589862823\n",
            "58 0.0605134479701519\n",
            "59 0.06736715137958527\n",
            "60 0.06669361144304276\n",
            "61 0.07155981659889221\n",
            "62 0.06561967730522156\n",
            "63 0.06942518055438995\n",
            "64 0.06829691678285599\n",
            "65 0.07353446632623672\n",
            "66 0.06792635470628738\n",
            "67 0.06735415756702423\n",
            "68 0.06425178796052933\n",
            "69 0.06748094409704208\n",
            "70 0.06715362519025803\n",
            "71 0.06715904921293259\n",
            "72 0.06606080383062363\n",
            "73 0.06483520567417145\n",
            "74 0.06952353566884995\n",
            "75 0.060481104999780655\n",
            "76 0.06725474447011948\n",
            "77 0.06707185506820679\n",
            "78 0.07053596526384354\n"
          ],
          "name": "stdout"
        },
        {
          "output_type": "stream",
          "text": [
            "79 0.06346061080694199\n",
            "80 0.07050180435180664\n",
            "81 0.06437322497367859\n",
            "82 0.06957194209098816\n",
            "83 0.0688934326171875\n",
            "84 0.07204177230596542\n",
            "85 0.06611320376396179\n",
            "86 0.06474726647138596\n",
            "87 0.06333782523870468\n",
            "88 0.06352560967206955\n",
            "89 0.061358191072940826\n",
            "90 0.06986640393733978\n",
            "91 0.06939544528722763\n",
            "92 0.059986915439367294\n",
            "93 0.06659296154975891\n",
            "94 0.06321022659540176\n",
            "95 0.06904921680688858\n",
            "96 0.06783326715230942\n",
            "97 0.06502271443605423\n",
            "98 0.06741303950548172\n",
            "99 0.06863559782505035\n"
          ],
          "name": "stdout"
        },
        {
          "output_type": "display_data",
          "data": {
            "image/png": "[encoded data removed]",
            "text/plain": [
              "<matplotlib.figure.Figure at 0x7fb647661390>"
            ]
          },
          "metadata": {
            "tags": []
          }
        }
      ]
    },
    {
      "metadata": {
        "id": "bgsRZX-nYfB6",
        "colab_type": "code",
        "colab": {}
      },
      "cell_type": "code",
      "source": [
        "# The produced image seems to be a mix of 3 and 9, better results can be obtained from sophisticated architectures and training for longer epochs"
      ],
      "execution_count": 0,
      "outputs": []
    },
    {
      "metadata": {
        "id": "fJNSWkjZZoBA",
        "colab_type": "code",
        "colab": {
          "base_uri": "https://localhost:8080/",
          "height": 34
        },
        "outputId": "4663a7ad-f5de-4026-f43e-6c8b6a38cc90"
      },
      "cell_type": "code",
      "source": [
        "torch.cuda.is_available()"
      ],
      "execution_count": 15,
      "outputs": [
        {
          "output_type": "execute_result",
          "data": {
            "text/plain": [
              "True"
            ]
          },
          "metadata": {
            "tags": []
          },
          "execution_count": 15
        }
      ]
    },
    {
      "metadata": {
        "id": "Qt0BceCsZovq",
        "colab_type": "code",
        "colab": {}
      },
      "cell_type": "code",
      "source": [
        ""
      ],
      "execution_count": 0,
      "outputs": []
    }
  ]
}